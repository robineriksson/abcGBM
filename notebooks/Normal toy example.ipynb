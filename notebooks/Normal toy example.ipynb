{
 "cells": [
  {
   "cell_type": "markdown",
   "metadata": {},
   "source": [
    "# Normal toy example\n",
    "We aim to test the feasability of using gradient boosted machines in regression in order to boost the basuc ABC rejection algorithm. The idea of the experiment originates from: https://arxiv.org/abs/1605.05537\n",
    "\n",
    "## Arguments:\n",
    "* No effort put into choosnig relevant summary statistic\n",
    "* No need to tune a $\\varepsilon$ parameter for the rejection"
   ]
  },
  {
   "cell_type": "markdown",
   "metadata": {},
   "source": [
    "## Procedure\n",
    "1. Construct reference table T_data with N data\n",
    "    * Normal example:\n",
    "    \\begin{equation}\n",
    "        y_i \\sim \\mathcal{N}(\\theta_1, \\theta_2), \\theta_2 > 0\n",
    "    \\end{equation}\n",
    "    \n",
    "    * Normal toy example:\n",
    "    \\begin{equation}\n",
    "        \\begin{aligned}\n",
    "            y_i | \\theta_1, \\theta_2 &\\sim \\mathcal{N}(\\theta_1, \\theta_2), \\\\\n",
    "            \\theta_1 | \\theta_2 &\\sim \\mathcal{N}(0, \\theta_2), \\\\\n",
    "            \\theta_2 &\\sim \\mathcal{IG}(4,3)\n",
    "        \\end{aligned}\n",
    "    \\end{equation}\n",
    "2. Construct reference table T_ss from summary statistics of T_data\n",
    "    * Use tsfresh\n",
    "3. Split T_ss into training, T_ss_train (70%), and testing dataset, T_ss_test (30%)\n",
    "    * sklearn train_test_split\n",
    "4. Train a GBM to estimate each parameter using T_ss_train\n",
    "    * catboost?\n",
    "5. Evaluate the GBM on T_ss_test"
   ]
  },
  {
   "cell_type": "markdown",
   "metadata": {},
   "source": [
    "## 1. Construct the reference table\n"
   ]
  },
  {
   "cell_type": "code",
   "execution_count": 1,
   "metadata": {},
   "outputs": [],
   "source": [
    "from scipy.stats import invgamma, norm, uniform\n",
    "import numpy as np\n",
    "import matplotlib.pyplot as plt"
   ]
  },
  {
   "cell_type": "code",
   "execution_count": 2,
   "metadata": {},
   "outputs": [],
   "source": [
    "def gen_y(shape=4, scale=3, size_y = 10):\n",
    "    '''Generates samples from the hierachical Normal mean model.\n",
    "    \n",
    "    Parameters:\n",
    "    shape (int): the shape paramter in the IG distribution\n",
    "    scale (int): the scale paramter in the IG distribution\n",
    "    size_y (int): the number of samples per parameter pair.\n",
    "    \n",
    "    Returns:\n",
    "    dict of lists: theta_1 (int), theta_2 (int), y (list) \n",
    "    '''\n",
    "    \n",
    "    # generate theta_2\n",
    "    theta_2 = invgamma.rvs(a=shape, scale=scale, size=1)\n",
    "    \n",
    "    # generate theta_1\n",
    "    theta_1 = norm.rvs(loc=0, scale=theta_2, size=1)\n",
    "    \n",
    "    # generate y\n",
    "    y = norm.rvs(loc=theta_1, scale=theta_2, size=size_y)\n",
    "    return({\"y\":y,\"theta_1\": theta_1, \"theta_2\": theta_2})"
   ]
  },
  {
   "cell_type": "code",
   "execution_count": 3,
   "metadata": {},
   "outputs": [],
   "source": [
    "def gen_y_norm(theta_1=0, theta_2=1, size_y=10):\n",
    "    y = norm.rvs(loc=theta_1, scale=theta_2, size=size_y)\n",
    "    return(y)"
   ]
  },
  {
   "cell_type": "code",
   "execution_count": 4,
   "metadata": {},
   "outputs": [],
   "source": [
    "def gen_y_norm_reftable(size_y, N_data=10000):\n",
    "    '''\n",
    "    Generate N_data samples from gen_norm\n",
    "    '''\n",
    "    y_out = np.zeros(N_data*size_y)\n",
    "    params = np.zeros((N_data,2))\n",
    "    for i in range(N_data):\n",
    "        # sample from prior\n",
    "        theta_1 = uniform.rvs(-10,20)\n",
    "        theta_2 = uniform.rvs(0,10)\n",
    "        \n",
    "        params[i,0] = theta_1\n",
    "        params[i,1] = theta_2\n",
    "\n",
    "        # simulate from model\n",
    "        y_out[i:(i+size_y)] = gen_y_norm(theta_1=theta_1, theta_2=theta_2, size_y=size_y)\n",
    "\n",
    "        \n",
    "        \n",
    "    return({\"y_data\":y_out, \"params\":params})"
   ]
  },
  {
   "cell_type": "code",
   "execution_count": 5,
   "metadata": {},
   "outputs": [],
   "source": [
    "# allocate the vectors for the reference table\n",
    "np.random.seed(0)\n",
    "\n",
    "N_data = 10000\n",
    "size_y = 10\n",
    "\n",
    "# for tsfresh!\n",
    "time = np.tile(range(size_y),N_data)\n",
    "index = np.repeat(range(N_data),size_y)\n",
    "\n",
    "# generate table\n",
    "y_out = gen_y_norm_reftable(size_y=size_y, N_data=N_data)\n",
    "# extract features\n",
    "y_data = y_out[\"y_data\"]\n",
    "# extract parameters\n",
    "params = y_out[\"params\"]"
   ]
  },
  {
   "cell_type": "code",
   "execution_count": 6,
   "metadata": {},
   "outputs": [],
   "source": [
    "# generate observation\n",
    "theta_1_true = -5\n",
    "theta_2_true = 1\n",
    "y_obs = gen_y_norm(theta_1=theta_1_true, theta_2=theta_2_true, size_y=size_y)"
   ]
  },
  {
   "cell_type": "code",
   "execution_count": 7,
   "metadata": {},
   "outputs": [
    {
     "data": {
      "image/png": "[encoded data removed]",
      "text/plain": [
       "<Figure size 720x360 with 1 Axes>"
      ]
     },
     "metadata": {
      "needs_background": "light"
     },
     "output_type": "display_data"
    }
   ],
   "source": [
    "# visualize the prior parameter space\n",
    "plt.figure(figsize=[10,5])\n",
    "plt.hist(params[:,0], alpha = 0.5)\n",
    "plt.hist(params[:,1], alpha = 0.5)\n",
    "plt.axvline(theta_1_true, color=\"blue\", lw=3)\n",
    "plt.axvline(theta_2_true, color=\"orange\", lw=3)\n",
    "\n",
    "pass"
   ]
  },
  {
   "cell_type": "markdown",
   "metadata": {},
   "source": [
    "## 2. Construct the summarized reference table"
   ]
  },
  {
   "cell_type": "code",
   "execution_count": 8,
   "metadata": {},
   "outputs": [],
   "source": [
    "import pandas as pd\n",
    "from tsfresh import extract_features\n",
    "from tsfresh.feature_extraction.settings import EfficientFCParameters, MinimalFCParameters\n"
   ]
  },
  {
   "cell_type": "code",
   "execution_count": 9,
   "metadata": {},
   "outputs": [],
   "source": [
    "y_pd = pd.DataFrame({\"id\":index, \"time\":time, \"y\":y_data})"
   ]
  },
  {
   "cell_type": "code",
   "execution_count": 20,
   "metadata": {
    "scrolled": false
   },
   "outputs": [
    {
     "name": "stderr",
     "output_type": "stream",
     "text": [
      "Feature Extraction: 100%|██████████| 20/20 [02:33<00:00,  5.12s/it]\n"
     ]
    }
   ],
   "source": [
    "regen = False\n",
    "mini = False\n",
    "if mini:\n",
    "    default_fc_parameters = MinimalFCParameters()\n",
    "else:\n",
    "    default_fc_parameters = EfficientFCParameters()\n",
    "if regen:\n",
    "    y_data_ss = extract_features(y_pd, column_id=\"id\", column_sort=\"time\",\n",
    "                                 default_fc_parameters=default_fc_parameters)\n",
    "    y_data_ss.to_csv(\"../data/y_data.csv\", index=False)\n",
    "else:\n",
    "    y_data_ss = pd.read_csv(\"../data/y_data.csv\")"
   ]
  },
  {
   "cell_type": "markdown",
   "metadata": {},
   "source": [
    "## 3. Split data\n"
   ]
  },
  {
   "cell_type": "code",
   "execution_count": 21,
   "metadata": {},
   "outputs": [
    {
     "name": "stderr",
     "output_type": "stream",
     "text": [
      "WARNING:tsfresh.utilities.dataframe_functions:The columns ['y__agg_linear_trend__f_agg_\"max\"__chunk_len_10__attr_\"intercept\"'\n",
      " 'y__agg_linear_trend__f_agg_\"max\"__chunk_len_10__attr_\"rvalue\"'\n",
      " 'y__agg_linear_trend__f_agg_\"max\"__chunk_len_10__attr_\"slope\"'\n",
      " 'y__agg_linear_trend__f_agg_\"max\"__chunk_len_10__attr_\"stderr\"'\n",
      " 'y__agg_linear_trend__f_agg_\"max\"__chunk_len_50__attr_\"intercept\"'\n",
      " 'y__agg_linear_trend__f_agg_\"max\"__chunk_len_50__attr_\"rvalue\"'\n",
      " 'y__agg_linear_trend__f_agg_\"max\"__chunk_len_50__attr_\"slope\"'\n",
      " 'y__agg_linear_trend__f_agg_\"max\"__chunk_len_50__attr_\"stderr\"'\n",
      " 'y__agg_linear_trend__f_agg_\"mean\"__chunk_len_10__attr_\"intercept\"'\n",
      " 'y__agg_linear_trend__f_agg_\"mean\"__chunk_len_10__attr_\"rvalue\"'\n",
      " 'y__agg_linear_trend__f_agg_\"mean\"__chunk_len_10__attr_\"slope\"'\n",
      " 'y__agg_linear_trend__f_agg_\"mean\"__chunk_len_10__attr_\"stderr\"'\n",
      " 'y__agg_linear_trend__f_agg_\"mean\"__chunk_len_50__attr_\"intercept\"'\n",
      " 'y__agg_linear_trend__f_agg_\"mean\"__chunk_len_50__attr_\"rvalue\"'\n",
      " 'y__agg_linear_trend__f_agg_\"mean\"__chunk_len_50__attr_\"slope\"'\n",
      " 'y__agg_linear_trend__f_agg_\"mean\"__chunk_len_50__attr_\"stderr\"'\n",
      " 'y__agg_linear_trend__f_agg_\"min\"__chunk_len_10__attr_\"intercept\"'\n",
      " 'y__agg_linear_trend__f_agg_\"min\"__chunk_len_10__attr_\"rvalue\"'\n",
      " 'y__agg_linear_trend__f_agg_\"min\"__chunk_len_10__attr_\"slope\"'\n",
      " 'y__agg_linear_trend__f_agg_\"min\"__chunk_len_10__attr_\"stderr\"'\n",
      " 'y__agg_linear_trend__f_agg_\"min\"__chunk_len_50__attr_\"intercept\"'\n",
      " 'y__agg_linear_trend__f_agg_\"min\"__chunk_len_50__attr_\"rvalue\"'\n",
      " 'y__agg_linear_trend__f_agg_\"min\"__chunk_len_50__attr_\"slope\"'\n",
      " 'y__agg_linear_trend__f_agg_\"min\"__chunk_len_50__attr_\"stderr\"'\n",
      " 'y__agg_linear_trend__f_agg_\"var\"__chunk_len_10__attr_\"intercept\"'\n",
      " 'y__agg_linear_trend__f_agg_\"var\"__chunk_len_10__attr_\"rvalue\"'\n",
      " 'y__agg_linear_trend__f_agg_\"var\"__chunk_len_10__attr_\"slope\"'\n",
      " 'y__agg_linear_trend__f_agg_\"var\"__chunk_len_10__attr_\"stderr\"'\n",
      " 'y__agg_linear_trend__f_agg_\"var\"__chunk_len_50__attr_\"intercept\"'\n",
      " 'y__agg_linear_trend__f_agg_\"var\"__chunk_len_50__attr_\"rvalue\"'\n",
      " 'y__agg_linear_trend__f_agg_\"var\"__chunk_len_50__attr_\"slope\"'\n",
      " 'y__agg_linear_trend__f_agg_\"var\"__chunk_len_50__attr_\"stderr\"'\n",
      " 'y__ar_coefficient__k_10__coeff_0' 'y__ar_coefficient__k_10__coeff_1'\n",
      " 'y__ar_coefficient__k_10__coeff_2' 'y__ar_coefficient__k_10__coeff_3'\n",
      " 'y__ar_coefficient__k_10__coeff_4'\n",
      " 'y__cwt_coefficients__widths_(2, 5, 10, 20)__coeff_10__w_10'\n",
      " 'y__cwt_coefficients__widths_(2, 5, 10, 20)__coeff_10__w_2'\n",
      " 'y__cwt_coefficients__widths_(2, 5, 10, 20)__coeff_10__w_20'\n",
      " 'y__cwt_coefficients__widths_(2, 5, 10, 20)__coeff_10__w_5'\n",
      " 'y__cwt_coefficients__widths_(2, 5, 10, 20)__coeff_11__w_10'\n",
      " 'y__cwt_coefficients__widths_(2, 5, 10, 20)__coeff_11__w_2'\n",
      " 'y__cwt_coefficients__widths_(2, 5, 10, 20)__coeff_11__w_20'\n",
      " 'y__cwt_coefficients__widths_(2, 5, 10, 20)__coeff_11__w_5'\n",
      " 'y__cwt_coefficients__widths_(2, 5, 10, 20)__coeff_12__w_10'\n",
      " 'y__cwt_coefficients__widths_(2, 5, 10, 20)__coeff_12__w_2'\n",
      " 'y__cwt_coefficients__widths_(2, 5, 10, 20)__coeff_12__w_20'\n",
      " 'y__cwt_coefficients__widths_(2, 5, 10, 20)__coeff_12__w_5'\n",
      " 'y__cwt_coefficients__widths_(2, 5, 10, 20)__coeff_13__w_10'\n",
      " 'y__cwt_coefficients__widths_(2, 5, 10, 20)__coeff_13__w_2'\n",
      " 'y__cwt_coefficients__widths_(2, 5, 10, 20)__coeff_13__w_20'\n",
      " 'y__cwt_coefficients__widths_(2, 5, 10, 20)__coeff_13__w_5'\n",
      " 'y__cwt_coefficients__widths_(2, 5, 10, 20)__coeff_14__w_10'\n",
      " 'y__cwt_coefficients__widths_(2, 5, 10, 20)__coeff_14__w_2'\n",
      " 'y__cwt_coefficients__widths_(2, 5, 10, 20)__coeff_14__w_20'\n",
      " 'y__cwt_coefficients__widths_(2, 5, 10, 20)__coeff_14__w_5'\n",
      " 'y__fft_coefficient__coeff_10__attr_\"abs\"'\n",
      " 'y__fft_coefficient__coeff_10__attr_\"angle\"'\n",
      " 'y__fft_coefficient__coeff_10__attr_\"imag\"'\n",
      " 'y__fft_coefficient__coeff_10__attr_\"real\"'\n",
      " 'y__fft_coefficient__coeff_11__attr_\"abs\"'\n",
      " 'y__fft_coefficient__coeff_11__attr_\"angle\"'\n",
      " 'y__fft_coefficient__coeff_11__attr_\"imag\"'\n",
      " 'y__fft_coefficient__coeff_11__attr_\"real\"'\n",
      " 'y__fft_coefficient__coeff_12__attr_\"abs\"'\n",
      " 'y__fft_coefficient__coeff_12__attr_\"angle\"'\n",
      " 'y__fft_coefficient__coeff_12__attr_\"imag\"'\n",
      " 'y__fft_coefficient__coeff_12__attr_\"real\"'\n",
      " 'y__fft_coefficient__coeff_13__attr_\"abs\"'\n",
      " 'y__fft_coefficient__coeff_13__attr_\"angle\"'\n",
      " 'y__fft_coefficient__coeff_13__attr_\"imag\"'\n",
      " 'y__fft_coefficient__coeff_13__attr_\"real\"'\n",
      " 'y__fft_coefficient__coeff_14__attr_\"abs\"'\n",
      " 'y__fft_coefficient__coeff_14__attr_\"angle\"'\n",
      " 'y__fft_coefficient__coeff_14__attr_\"imag\"'\n",
      " 'y__fft_coefficient__coeff_14__attr_\"real\"'\n",
      " 'y__fft_coefficient__coeff_15__attr_\"abs\"'\n",
      " 'y__fft_coefficient__coeff_15__attr_\"angle\"'\n",
      " 'y__fft_coefficient__coeff_15__attr_\"imag\"'\n",
      " 'y__fft_coefficient__coeff_15__attr_\"real\"'\n",
      " 'y__fft_coefficient__coeff_16__attr_\"abs\"'\n",
      " 'y__fft_coefficient__coeff_16__attr_\"angle\"'\n",
      " 'y__fft_coefficient__coeff_16__attr_\"imag\"'\n",
      " 'y__fft_coefficient__coeff_16__attr_\"real\"'\n",
      " 'y__fft_coefficient__coeff_17__attr_\"abs\"'\n",
      " 'y__fft_coefficient__coeff_17__attr_\"angle\"'\n",
      " 'y__fft_coefficient__coeff_17__attr_\"imag\"'\n",
      " 'y__fft_coefficient__coeff_17__attr_\"real\"'\n",
      " 'y__fft_coefficient__coeff_18__attr_\"abs\"'\n",
      " 'y__fft_coefficient__coeff_18__attr_\"angle\"'\n",
      " 'y__fft_coefficient__coeff_18__attr_\"imag\"'\n",
      " 'y__fft_coefficient__coeff_18__attr_\"real\"'\n",
      " 'y__fft_coefficient__coeff_19__attr_\"abs\"'\n",
      " 'y__fft_coefficient__coeff_19__attr_\"angle\"'\n",
      " 'y__fft_coefficient__coeff_19__attr_\"imag\"'\n",
      " 'y__fft_coefficient__coeff_19__attr_\"real\"'\n",
      " 'y__fft_coefficient__coeff_20__attr_\"abs\"'\n",
      " 'y__fft_coefficient__coeff_20__attr_\"angle\"'\n",
      " 'y__fft_coefficient__coeff_20__attr_\"imag\"'\n",
      " 'y__fft_coefficient__coeff_20__attr_\"real\"'\n",
      " 'y__fft_coefficient__coeff_21__attr_\"abs\"'\n",
      " 'y__fft_coefficient__coeff_21__attr_\"angle\"'\n",
      " 'y__fft_coefficient__coeff_21__attr_\"imag\"'\n",
      " 'y__fft_coefficient__coeff_21__attr_\"real\"'\n",
      " 'y__fft_coefficient__coeff_22__attr_\"abs\"'\n",
      " 'y__fft_coefficient__coeff_22__attr_\"angle\"'\n",
      " 'y__fft_coefficient__coeff_22__attr_\"imag\"'\n",
      " 'y__fft_coefficient__coeff_22__attr_\"real\"'\n",
      " 'y__fft_coefficient__coeff_23__attr_\"abs\"'\n",
      " 'y__fft_coefficient__coeff_23__attr_\"angle\"'\n",
      " 'y__fft_coefficient__coeff_23__attr_\"imag\"'\n",
      " 'y__fft_coefficient__coeff_23__attr_\"real\"'\n",
      " 'y__fft_coefficient__coeff_24__attr_\"abs\"'\n",
      " 'y__fft_coefficient__coeff_24__attr_\"angle\"'\n",
      " 'y__fft_coefficient__coeff_24__attr_\"imag\"'\n",
      " 'y__fft_coefficient__coeff_24__attr_\"real\"'\n",
      " 'y__fft_coefficient__coeff_25__attr_\"abs\"'\n",
      " 'y__fft_coefficient__coeff_25__attr_\"angle\"'\n",
      " 'y__fft_coefficient__coeff_25__attr_\"imag\"'\n",
      " 'y__fft_coefficient__coeff_25__attr_\"real\"'\n",
      " 'y__fft_coefficient__coeff_26__attr_\"abs\"'\n",
      " 'y__fft_coefficient__coeff_26__attr_\"angle\"'\n",
      " 'y__fft_coefficient__coeff_26__attr_\"imag\"'\n",
      " 'y__fft_coefficient__coeff_26__attr_\"real\"'\n",
      " 'y__fft_coefficient__coeff_27__attr_\"abs\"'\n",
      " 'y__fft_coefficient__coeff_27__attr_\"angle\"'\n",
      " 'y__fft_coefficient__coeff_27__attr_\"imag\"'\n",
      " 'y__fft_coefficient__coeff_27__attr_\"real\"'\n",
      " 'y__fft_coefficient__coeff_28__attr_\"abs\"'\n",
      " 'y__fft_coefficient__coeff_28__attr_\"angle\"'\n",
      " 'y__fft_coefficient__coeff_28__attr_\"imag\"'\n",
      " 'y__fft_coefficient__coeff_28__attr_\"real\"'\n",
      " 'y__fft_coefficient__coeff_29__attr_\"abs\"'\n",
      " 'y__fft_coefficient__coeff_29__attr_\"angle\"'\n",
      " 'y__fft_coefficient__coeff_29__attr_\"imag\"'\n",
      " 'y__fft_coefficient__coeff_29__attr_\"real\"'\n",
      " 'y__fft_coefficient__coeff_30__attr_\"abs\"'\n",
      " 'y__fft_coefficient__coeff_30__attr_\"angle\"'\n",
      " 'y__fft_coefficient__coeff_30__attr_\"imag\"'\n",
      " 'y__fft_coefficient__coeff_30__attr_\"real\"'\n",
      " 'y__fft_coefficient__coeff_31__attr_\"abs\"'\n",
      " 'y__fft_coefficient__coeff_31__attr_\"angle\"'\n",
      " 'y__fft_coefficient__coeff_31__attr_\"imag\"'\n",
      " 'y__fft_coefficient__coeff_31__attr_\"real\"'\n",
      " 'y__fft_coefficient__coeff_32__attr_\"abs\"'\n",
      " 'y__fft_coefficient__coeff_32__attr_\"angle\"'\n",
      " 'y__fft_coefficient__coeff_32__attr_\"imag\"'\n",
      " 'y__fft_coefficient__coeff_32__attr_\"real\"'\n",
      " 'y__fft_coefficient__coeff_33__attr_\"abs\"'\n",
      " 'y__fft_coefficient__coeff_33__attr_\"angle\"'\n",
      " 'y__fft_coefficient__coeff_33__attr_\"imag\"'\n",
      " 'y__fft_coefficient__coeff_33__attr_\"real\"'\n",
      " 'y__fft_coefficient__coeff_34__attr_\"abs\"'\n",
      " 'y__fft_coefficient__coeff_34__attr_\"angle\"'\n",
      " 'y__fft_coefficient__coeff_34__attr_\"imag\"'\n",
      " 'y__fft_coefficient__coeff_34__attr_\"real\"'\n",
      " 'y__fft_coefficient__coeff_35__attr_\"abs\"'\n",
      " 'y__fft_coefficient__coeff_35__attr_\"angle\"'\n",
      " 'y__fft_coefficient__coeff_35__attr_\"imag\"'\n",
      " 'y__fft_coefficient__coeff_35__attr_\"real\"'\n",
      " 'y__fft_coefficient__coeff_36__attr_\"abs\"'\n",
      " 'y__fft_coefficient__coeff_36__attr_\"angle\"'\n",
      " 'y__fft_coefficient__coeff_36__attr_\"imag\"'\n",
      " 'y__fft_coefficient__coeff_36__attr_\"real\"'\n",
      " 'y__fft_coefficient__coeff_37__attr_\"abs\"'\n",
      " 'y__fft_coefficient__coeff_37__attr_\"angle\"'\n",
      " 'y__fft_coefficient__coeff_37__attr_\"imag\"'\n",
      " 'y__fft_coefficient__coeff_37__attr_\"real\"'\n",
      " 'y__fft_coefficient__coeff_38__attr_\"abs\"'\n",
      " 'y__fft_coefficient__coeff_38__attr_\"angle\"'\n",
      " 'y__fft_coefficient__coeff_38__attr_\"imag\"'\n",
      " 'y__fft_coefficient__coeff_38__attr_\"real\"'\n",
      " 'y__fft_coefficient__coeff_39__attr_\"abs\"'\n",
      " 'y__fft_coefficient__coeff_39__attr_\"angle\"'\n",
      " 'y__fft_coefficient__coeff_39__attr_\"imag\"'\n",
      " 'y__fft_coefficient__coeff_39__attr_\"real\"'\n",
      " 'y__fft_coefficient__coeff_40__attr_\"abs\"'\n",
      " 'y__fft_coefficient__coeff_40__attr_\"angle\"'\n",
      " 'y__fft_coefficient__coeff_40__attr_\"imag\"'\n",
      " 'y__fft_coefficient__coeff_40__attr_\"real\"'\n",
      " 'y__fft_coefficient__coeff_41__attr_\"abs\"'\n",
      " 'y__fft_coefficient__coeff_41__attr_\"angle\"'\n",
      " 'y__fft_coefficient__coeff_41__attr_\"imag\"'\n",
      " 'y__fft_coefficient__coeff_41__attr_\"real\"'\n",
      " 'y__fft_coefficient__coeff_42__attr_\"abs\"'\n",
      " 'y__fft_coefficient__coeff_42__attr_\"angle\"'\n",
      " 'y__fft_coefficient__coeff_42__attr_\"imag\"'\n",
      " 'y__fft_coefficient__coeff_42__attr_\"real\"'\n",
      " 'y__fft_coefficient__coeff_43__attr_\"abs\"'\n",
      " 'y__fft_coefficient__coeff_43__attr_\"angle\"'\n",
      " 'y__fft_coefficient__coeff_43__attr_\"imag\"'\n",
      " 'y__fft_coefficient__coeff_43__attr_\"real\"'\n",
      " 'y__fft_coefficient__coeff_44__attr_\"abs\"'\n",
      " 'y__fft_coefficient__coeff_44__attr_\"angle\"'\n",
      " 'y__fft_coefficient__coeff_44__attr_\"imag\"'\n",
      " 'y__fft_coefficient__coeff_44__attr_\"real\"'\n",
      " 'y__fft_coefficient__coeff_45__attr_\"abs\"'\n",
      " 'y__fft_coefficient__coeff_45__attr_\"angle\"'\n",
      " 'y__fft_coefficient__coeff_45__attr_\"imag\"'\n",
      " 'y__fft_coefficient__coeff_45__attr_\"real\"'\n",
      " 'y__fft_coefficient__coeff_46__attr_\"abs\"'\n",
      " 'y__fft_coefficient__coeff_46__attr_\"angle\"'\n",
      " 'y__fft_coefficient__coeff_46__attr_\"imag\"'\n",
      " 'y__fft_coefficient__coeff_46__attr_\"real\"'\n",
      " 'y__fft_coefficient__coeff_47__attr_\"abs\"'\n",
      " 'y__fft_coefficient__coeff_47__attr_\"angle\"'\n",
      " 'y__fft_coefficient__coeff_47__attr_\"imag\"'\n",
      " 'y__fft_coefficient__coeff_47__attr_\"real\"'\n",
      " 'y__fft_coefficient__coeff_48__attr_\"abs\"'\n",
      " 'y__fft_coefficient__coeff_48__attr_\"angle\"'\n",
      " 'y__fft_coefficient__coeff_48__attr_\"imag\"'\n",
      " 'y__fft_coefficient__coeff_48__attr_\"real\"'\n",
      " 'y__fft_coefficient__coeff_49__attr_\"abs\"'\n",
      " 'y__fft_coefficient__coeff_49__attr_\"angle\"'\n",
      " 'y__fft_coefficient__coeff_49__attr_\"imag\"'\n",
      " 'y__fft_coefficient__coeff_49__attr_\"real\"'\n",
      " 'y__fft_coefficient__coeff_50__attr_\"abs\"'\n",
      " 'y__fft_coefficient__coeff_50__attr_\"angle\"'\n",
      " 'y__fft_coefficient__coeff_50__attr_\"imag\"'\n",
      " 'y__fft_coefficient__coeff_50__attr_\"real\"'\n",
      " 'y__fft_coefficient__coeff_51__attr_\"abs\"'\n",
      " 'y__fft_coefficient__coeff_51__attr_\"angle\"'\n",
      " 'y__fft_coefficient__coeff_51__attr_\"imag\"'\n",
      " 'y__fft_coefficient__coeff_51__attr_\"real\"'\n",
      " 'y__fft_coefficient__coeff_52__attr_\"abs\"'\n",
      " 'y__fft_coefficient__coeff_52__attr_\"angle\"'\n",
      " 'y__fft_coefficient__coeff_52__attr_\"imag\"'\n",
      " 'y__fft_coefficient__coeff_52__attr_\"real\"'\n",
      " 'y__fft_coefficient__coeff_53__attr_\"abs\"'\n",
      " 'y__fft_coefficient__coeff_53__attr_\"angle\"'\n",
      " 'y__fft_coefficient__coeff_53__attr_\"imag\"'\n",
      " 'y__fft_coefficient__coeff_53__attr_\"real\"'\n",
      " 'y__fft_coefficient__coeff_54__attr_\"abs\"'\n",
      " 'y__fft_coefficient__coeff_54__attr_\"angle\"'\n",
      " 'y__fft_coefficient__coeff_54__attr_\"imag\"'\n",
      " 'y__fft_coefficient__coeff_54__attr_\"real\"'\n",
      " 'y__fft_coefficient__coeff_55__attr_\"abs\"'\n",
      " 'y__fft_coefficient__coeff_55__attr_\"angle\"'\n",
      " 'y__fft_coefficient__coeff_55__attr_\"imag\"'\n",
      " 'y__fft_coefficient__coeff_55__attr_\"real\"'\n",
      " 'y__fft_coefficient__coeff_56__attr_\"abs\"'\n",
      " 'y__fft_coefficient__coeff_56__attr_\"angle\"'\n",
      " 'y__fft_coefficient__coeff_56__attr_\"imag\"'\n",
      " 'y__fft_coefficient__coeff_56__attr_\"real\"'\n",
      " 'y__fft_coefficient__coeff_57__attr_\"abs\"'\n",
      " 'y__fft_coefficient__coeff_57__attr_\"angle\"'\n",
      " 'y__fft_coefficient__coeff_57__attr_\"imag\"'\n",
      " 'y__fft_coefficient__coeff_57__attr_\"real\"'\n",
      " 'y__fft_coefficient__coeff_58__attr_\"abs\"'\n",
      " 'y__fft_coefficient__coeff_58__attr_\"angle\"'\n",
      " 'y__fft_coefficient__coeff_58__attr_\"imag\"'\n",
      " 'y__fft_coefficient__coeff_58__attr_\"real\"'\n",
      " 'y__fft_coefficient__coeff_59__attr_\"abs\"'\n",
      " 'y__fft_coefficient__coeff_59__attr_\"angle\"'\n",
      " 'y__fft_coefficient__coeff_59__attr_\"imag\"'\n",
      " 'y__fft_coefficient__coeff_59__attr_\"real\"'\n",
      " 'y__fft_coefficient__coeff_60__attr_\"abs\"'\n",
      " 'y__fft_coefficient__coeff_60__attr_\"angle\"'\n",
      " 'y__fft_coefficient__coeff_60__attr_\"imag\"'\n",
      " 'y__fft_coefficient__coeff_60__attr_\"real\"'\n",
      " 'y__fft_coefficient__coeff_61__attr_\"abs\"'\n",
      " 'y__fft_coefficient__coeff_61__attr_\"angle\"'\n",
      " 'y__fft_coefficient__coeff_61__attr_\"imag\"'\n",
      " 'y__fft_coefficient__coeff_61__attr_\"real\"'\n",
      " 'y__fft_coefficient__coeff_62__attr_\"abs\"'\n",
      " 'y__fft_coefficient__coeff_62__attr_\"angle\"'\n",
      " 'y__fft_coefficient__coeff_62__attr_\"imag\"'\n",
      " 'y__fft_coefficient__coeff_62__attr_\"real\"'\n",
      " 'y__fft_coefficient__coeff_63__attr_\"abs\"'\n",
      " 'y__fft_coefficient__coeff_63__attr_\"angle\"'\n",
      " 'y__fft_coefficient__coeff_63__attr_\"imag\"'\n",
      " 'y__fft_coefficient__coeff_63__attr_\"real\"'\n",
      " 'y__fft_coefficient__coeff_64__attr_\"abs\"'\n",
      " 'y__fft_coefficient__coeff_64__attr_\"angle\"'\n",
      " 'y__fft_coefficient__coeff_64__attr_\"imag\"'\n",
      " 'y__fft_coefficient__coeff_64__attr_\"real\"'\n",
      " 'y__fft_coefficient__coeff_65__attr_\"abs\"'\n",
      " 'y__fft_coefficient__coeff_65__attr_\"angle\"'\n",
      " 'y__fft_coefficient__coeff_65__attr_\"imag\"'\n",
      " 'y__fft_coefficient__coeff_65__attr_\"real\"'\n",
      " 'y__fft_coefficient__coeff_66__attr_\"abs\"'\n",
      " 'y__fft_coefficient__coeff_66__attr_\"angle\"'\n",
      " 'y__fft_coefficient__coeff_66__attr_\"imag\"'\n",
      " 'y__fft_coefficient__coeff_66__attr_\"real\"'\n",
      " 'y__fft_coefficient__coeff_67__attr_\"abs\"'\n",
      " 'y__fft_coefficient__coeff_67__attr_\"angle\"'\n",
      " 'y__fft_coefficient__coeff_67__attr_\"imag\"'\n",
      " 'y__fft_coefficient__coeff_67__attr_\"real\"'\n",
      " 'y__fft_coefficient__coeff_68__attr_\"abs\"'\n",
      " 'y__fft_coefficient__coeff_68__attr_\"angle\"'\n",
      " 'y__fft_coefficient__coeff_68__attr_\"imag\"'\n",
      " 'y__fft_coefficient__coeff_68__attr_\"real\"'\n",
      " 'y__fft_coefficient__coeff_69__attr_\"abs\"'\n",
      " 'y__fft_coefficient__coeff_69__attr_\"angle\"'\n",
      " 'y__fft_coefficient__coeff_69__attr_\"imag\"'\n",
      " 'y__fft_coefficient__coeff_69__attr_\"real\"'\n",
      " 'y__fft_coefficient__coeff_6__attr_\"abs\"'\n",
      " 'y__fft_coefficient__coeff_6__attr_\"angle\"'\n",
      " 'y__fft_coefficient__coeff_6__attr_\"imag\"'\n",
      " 'y__fft_coefficient__coeff_6__attr_\"real\"'\n",
      " 'y__fft_coefficient__coeff_70__attr_\"abs\"'\n",
      " 'y__fft_coefficient__coeff_70__attr_\"angle\"'\n",
      " 'y__fft_coefficient__coeff_70__attr_\"imag\"'\n",
      " 'y__fft_coefficient__coeff_70__attr_\"real\"'\n",
      " 'y__fft_coefficient__coeff_71__attr_\"abs\"'\n",
      " 'y__fft_coefficient__coeff_71__attr_\"angle\"'\n",
      " 'y__fft_coefficient__coeff_71__attr_\"imag\"'\n",
      " 'y__fft_coefficient__coeff_71__attr_\"real\"'\n",
      " 'y__fft_coefficient__coeff_72__attr_\"abs\"'\n",
      " 'y__fft_coefficient__coeff_72__attr_\"angle\"'\n",
      " 'y__fft_coefficient__coeff_72__attr_\"imag\"'\n",
      " 'y__fft_coefficient__coeff_72__attr_\"real\"'\n",
      " 'y__fft_coefficient__coeff_73__attr_\"abs\"'\n",
      " 'y__fft_coefficient__coeff_73__attr_\"angle\"'\n",
      " 'y__fft_coefficient__coeff_73__attr_\"imag\"'\n",
      " 'y__fft_coefficient__coeff_73__attr_\"real\"'\n",
      " 'y__fft_coefficient__coeff_74__attr_\"abs\"'\n",
      " 'y__fft_coefficient__coeff_74__attr_\"angle\"'\n",
      " 'y__fft_coefficient__coeff_74__attr_\"imag\"'\n",
      " 'y__fft_coefficient__coeff_74__attr_\"real\"'\n",
      " 'y__fft_coefficient__coeff_75__attr_\"abs\"'\n",
      " 'y__fft_coefficient__coeff_75__attr_\"angle\"'\n",
      " 'y__fft_coefficient__coeff_75__attr_\"imag\"'\n",
      " 'y__fft_coefficient__coeff_75__attr_\"real\"'\n",
      " 'y__fft_coefficient__coeff_76__attr_\"abs\"'\n",
      " 'y__fft_coefficient__coeff_76__attr_\"angle\"'\n",
      " 'y__fft_coefficient__coeff_76__attr_\"imag\"'\n",
      " 'y__fft_coefficient__coeff_76__attr_\"real\"'\n",
      " 'y__fft_coefficient__coeff_77__attr_\"abs\"'\n",
      " 'y__fft_coefficient__coeff_77__attr_\"angle\"'\n",
      " 'y__fft_coefficient__coeff_77__attr_\"imag\"'\n",
      " 'y__fft_coefficient__coeff_77__attr_\"real\"'\n",
      " 'y__fft_coefficient__coeff_78__attr_\"abs\"'\n",
      " 'y__fft_coefficient__coeff_78__attr_\"angle\"'\n",
      " 'y__fft_coefficient__coeff_78__attr_\"imag\"'\n",
      " 'y__fft_coefficient__coeff_78__attr_\"real\"'\n",
      " 'y__fft_coefficient__coeff_79__attr_\"abs\"'\n",
      " 'y__fft_coefficient__coeff_79__attr_\"angle\"'\n",
      " 'y__fft_coefficient__coeff_79__attr_\"imag\"'\n",
      " 'y__fft_coefficient__coeff_79__attr_\"real\"'\n",
      " 'y__fft_coefficient__coeff_7__attr_\"abs\"'\n",
      " 'y__fft_coefficient__coeff_7__attr_\"angle\"'\n",
      " 'y__fft_coefficient__coeff_7__attr_\"imag\"'\n",
      " 'y__fft_coefficient__coeff_7__attr_\"real\"'\n",
      " 'y__fft_coefficient__coeff_80__attr_\"abs\"'\n",
      " 'y__fft_coefficient__coeff_80__attr_\"angle\"'\n",
      " 'y__fft_coefficient__coeff_80__attr_\"imag\"'\n",
      " 'y__fft_coefficient__coeff_80__attr_\"real\"'\n",
      " 'y__fft_coefficient__coeff_81__attr_\"abs\"'\n",
      " 'y__fft_coefficient__coeff_81__attr_\"angle\"'\n",
      " 'y__fft_coefficient__coeff_81__attr_\"imag\"'\n",
      " 'y__fft_coefficient__coeff_81__attr_\"real\"'\n",
      " 'y__fft_coefficient__coeff_82__attr_\"abs\"'\n",
      " 'y__fft_coefficient__coeff_82__attr_\"angle\"'\n",
      " 'y__fft_coefficient__coeff_82__attr_\"imag\"'\n",
      " 'y__fft_coefficient__coeff_82__attr_\"real\"'\n",
      " 'y__fft_coefficient__coeff_83__attr_\"abs\"'\n",
      " 'y__fft_coefficient__coeff_83__attr_\"angle\"'\n",
      " 'y__fft_coefficient__coeff_83__attr_\"imag\"'\n",
      " 'y__fft_coefficient__coeff_83__attr_\"real\"'\n",
      " 'y__fft_coefficient__coeff_84__attr_\"abs\"'\n",
      " 'y__fft_coefficient__coeff_84__attr_\"angle\"'\n",
      " 'y__fft_coefficient__coeff_84__attr_\"imag\"'\n",
      " 'y__fft_coefficient__coeff_84__attr_\"real\"'\n",
      " 'y__fft_coefficient__coeff_85__attr_\"abs\"'\n",
      " 'y__fft_coefficient__coeff_85__attr_\"angle\"'\n",
      " 'y__fft_coefficient__coeff_85__attr_\"imag\"'\n",
      " 'y__fft_coefficient__coeff_85__attr_\"real\"'\n",
      " 'y__fft_coefficient__coeff_86__attr_\"abs\"'\n",
      " 'y__fft_coefficient__coeff_86__attr_\"angle\"'\n",
      " 'y__fft_coefficient__coeff_86__attr_\"imag\"'\n",
      " 'y__fft_coefficient__coeff_86__attr_\"real\"'\n",
      " 'y__fft_coefficient__coeff_87__attr_\"abs\"'\n",
      " 'y__fft_coefficient__coeff_87__attr_\"angle\"'\n",
      " 'y__fft_coefficient__coeff_87__attr_\"imag\"'\n",
      " 'y__fft_coefficient__coeff_87__attr_\"real\"'\n",
      " 'y__fft_coefficient__coeff_88__attr_\"abs\"'\n",
      " 'y__fft_coefficient__coeff_88__attr_\"angle\"'\n",
      " 'y__fft_coefficient__coeff_88__attr_\"imag\"'\n",
      " 'y__fft_coefficient__coeff_88__attr_\"real\"'\n",
      " 'y__fft_coefficient__coeff_89__attr_\"abs\"'\n",
      " 'y__fft_coefficient__coeff_89__attr_\"angle\"'\n",
      " 'y__fft_coefficient__coeff_89__attr_\"imag\"'\n",
      " 'y__fft_coefficient__coeff_89__attr_\"real\"'\n",
      " 'y__fft_coefficient__coeff_8__attr_\"abs\"'\n",
      " 'y__fft_coefficient__coeff_8__attr_\"angle\"'\n",
      " 'y__fft_coefficient__coeff_8__attr_\"imag\"'\n",
      " 'y__fft_coefficient__coeff_8__attr_\"real\"'\n",
      " 'y__fft_coefficient__coeff_90__attr_\"abs\"'\n",
      " 'y__fft_coefficient__coeff_90__attr_\"angle\"'\n",
      " 'y__fft_coefficient__coeff_90__attr_\"imag\"'\n",
      " 'y__fft_coefficient__coeff_90__attr_\"real\"'\n",
      " 'y__fft_coefficient__coeff_91__attr_\"abs\"'\n",
      " 'y__fft_coefficient__coeff_91__attr_\"angle\"'\n",
      " 'y__fft_coefficient__coeff_91__attr_\"imag\"'\n",
      " 'y__fft_coefficient__coeff_91__attr_\"real\"'\n",
      " 'y__fft_coefficient__coeff_92__attr_\"abs\"'\n",
      " 'y__fft_coefficient__coeff_92__attr_\"angle\"'\n",
      " 'y__fft_coefficient__coeff_92__attr_\"imag\"'\n",
      " 'y__fft_coefficient__coeff_92__attr_\"real\"'\n",
      " 'y__fft_coefficient__coeff_93__attr_\"abs\"'\n",
      " 'y__fft_coefficient__coeff_93__attr_\"angle\"'\n",
      " 'y__fft_coefficient__coeff_93__attr_\"imag\"'\n",
      " 'y__fft_coefficient__coeff_93__attr_\"real\"'\n",
      " 'y__fft_coefficient__coeff_94__attr_\"abs\"'\n",
      " 'y__fft_coefficient__coeff_94__attr_\"angle\"'\n",
      " 'y__fft_coefficient__coeff_94__attr_\"imag\"'\n",
      " 'y__fft_coefficient__coeff_94__attr_\"real\"'\n",
      " 'y__fft_coefficient__coeff_95__attr_\"abs\"'\n",
      " 'y__fft_coefficient__coeff_95__attr_\"angle\"'\n",
      " 'y__fft_coefficient__coeff_95__attr_\"imag\"'\n",
      " 'y__fft_coefficient__coeff_95__attr_\"real\"'\n",
      " 'y__fft_coefficient__coeff_96__attr_\"abs\"'\n",
      " 'y__fft_coefficient__coeff_96__attr_\"angle\"'\n",
      " 'y__fft_coefficient__coeff_96__attr_\"imag\"'\n",
      " 'y__fft_coefficient__coeff_96__attr_\"real\"'\n",
      " 'y__fft_coefficient__coeff_97__attr_\"abs\"'\n",
      " 'y__fft_coefficient__coeff_97__attr_\"angle\"'\n",
      " 'y__fft_coefficient__coeff_97__attr_\"imag\"'\n",
      " 'y__fft_coefficient__coeff_97__attr_\"real\"'\n",
      " 'y__fft_coefficient__coeff_98__attr_\"abs\"'\n",
      " 'y__fft_coefficient__coeff_98__attr_\"angle\"'\n",
      " 'y__fft_coefficient__coeff_98__attr_\"imag\"'\n",
      " 'y__fft_coefficient__coeff_98__attr_\"real\"'\n",
      " 'y__fft_coefficient__coeff_99__attr_\"abs\"'\n",
      " 'y__fft_coefficient__coeff_99__attr_\"angle\"'\n",
      " 'y__fft_coefficient__coeff_99__attr_\"imag\"'\n",
      " 'y__fft_coefficient__coeff_99__attr_\"real\"'\n",
      " 'y__fft_coefficient__coeff_9__attr_\"abs\"'\n",
      " 'y__fft_coefficient__coeff_9__attr_\"angle\"'\n",
      " 'y__fft_coefficient__coeff_9__attr_\"imag\"'\n",
      " 'y__fft_coefficient__coeff_9__attr_\"real\"'\n",
      " 'y__spkt_welch_density__coeff_8'] did not have any finite values. Filling with zeros.\n"
     ]
    }
   ],
   "source": [
    "from sklearn.model_selection import train_test_split\n",
    "\n",
    "# clean the features!\n",
    "import tsfresh.transformers.per_column_imputer as PCI\n",
    "pci_trans = PCI.PerColumnImputer()\n",
    "y_data_ss_pci = pci_trans.fit_transform(y_data_ss)"
   ]
  },
  {
   "cell_type": "code",
   "execution_count": 22,
   "metadata": {},
   "outputs": [],
   "source": [
    "X_train_1, X_test_1, y_train_1, y_test_1 = train_test_split(y_data_ss_pci, params[:,0], test_size=0.3, random_state=0)\n",
    "X_train_2, X_test_2, y_train_2, y_test_2 = train_test_split(y_data_ss_pci, params[:,1], test_size=0.3, random_state=0)"
   ]
  },
  {
   "cell_type": "markdown",
   "metadata": {},
   "source": [
    "## 4. Fit data, RF"
   ]
  },
  {
   "cell_type": "code",
   "execution_count": 69,
   "metadata": {},
   "outputs": [],
   "source": [
    "from sklearn.ensemble import RandomForestRegressor\n",
    "from catboost import CatBoostRegressor\n",
    "\n"
   ]
  },
  {
   "cell_type": "code",
   "execution_count": 71,
   "metadata": {},
   "outputs": [],
   "source": [
    "# a) construct model\n",
    "# b) fit model\n",
    "# c) predict with model\n",
    "\n",
    "#model_1 = CatBoostRegressor(random_state=0,\n",
    "#                            logging_level=\"Silen\")\n",
    "model_1 = RandomForestRegressor(random_state=0, n_estimators=10)\n",
    "model_1.fit(X_train_1,y_train_1)\n",
    "theta_hat_1 = model_1.predict(X_test_1)\n",
    "\n",
    "model_2 = RandomForestRegressor(random_state=0, n_estimators=10)\n",
    "model_2.fit(X_train_2,y_train_2)\n",
    "theta_hat_2 = model_2.predict(X_test_2)\n"
   ]
  },
  {
   "cell_type": "code",
   "execution_count": 76,
   "metadata": {},
   "outputs": [],
   "source": [
    "from skgarden import forest, quantile\n",
    "\n",
    "model_3 = quantile.ExtraTreesQuantileRegressor(random_state=0, \n",
    "                                               n_estimators=10)\n",
    "model_3.fit(X_train_1,y_train_1)\n",
    "theta_hat_3 = model_3.predict(X_test_1)"
   ]
  },
  {
   "cell_type": "code",
   "execution_count": 127,
   "metadata": {},
   "outputs": [],
   "source": [
    "def plotFI(N, feature_names, model):\n",
    "    importances = model.feature_importances_\n",
    "    #std = np.std([tree.feature_importances_ for tree in model_1.estimators_],\n",
    "    #             axis=0)\n",
    "    indices = np.argsort(importances)[::-1][:N]\n",
    "\n",
    "    # Print the feature ranking\n",
    "    #print(\"Feature ranking:\")\n",
    "\n",
    "    #for f in range(y_data_ss_pci.shape[1]):\n",
    "    #    print(\"%d. feature %d (%f)\" % (f + 1, indices[f], importances[indices[f]]))\n",
    "\n",
    "    # Plot the feature importances of the forest\n",
    "    plt.figure(figsize=[10,10])\n",
    "    plt.title(\"Feature importances\")\n",
    "    plt.barh(feature_names[indices], importances[indices],\n",
    "           color=\"r\", align=\"center\")\n",
    "    #plt.yticks(range(len(indices)), [feature_names[i] for i in indices])\n",
    "    #plt.yticks(feature_names[indices])\n",
    "    #plt.xlim([-1, y_data_ss_pci.shape[1]])\n",
    "    plt.show()"
   ]
  },
  {
   "cell_type": "code",
   "execution_count": 128,
   "metadata": {},
   "outputs": [
    {
     "data": {
      "image/png": "[encoded data removed]",
      "text/plain": [
       "<Figure size 720x720 with 1 Axes>"
      ]
     },
     "metadata": {
      "needs_background": "light"
     },
     "output_type": "display_data"
    }
   ],
   "source": [
    "plotFI(10,y_data_ss.columns, model_1)"
   ]
  },
  {
   "cell_type": "code",
   "execution_count": 56,
   "metadata": {},
   "outputs": [
    {
     "data": {
      "image/png": "[encoded data removed]",
      "text/plain": [
       "<Figure size 1152x360 with 2 Axes>"
      ]
     },
     "metadata": {
      "needs_background": "light"
     },
     "output_type": "display_data"
    }
   ],
   "source": [
    "plt.figure(figsize=[16,5])\n",
    "plt.subplot(1,2,1)\n",
    "plt.hist(y_test_1, density=False, histtype=\"step\")\n",
    "plt.hist(theta_hat_1, density=False, histtype=\"step\")\n",
    "\n",
    "plt.subplot(1,2,2)\n",
    "plt.hist(y_test_2, density=False, histtype=\"step\")\n",
    "plt.hist(theta_hat_2, density=False, histtype=\"step\")\n",
    "pass"
   ]
  },
  {
   "cell_type": "markdown",
   "metadata": {},
   "source": [
    "## Can we infe the parameters on the observation?"
   ]
  },
  {
   "cell_type": "code",
   "execution_count": 32,
   "metadata": {},
   "outputs": [
    {
     "name": "stderr",
     "output_type": "stream",
     "text": [
      "Feature Extraction: 100%|██████████| 1/1 [00:00<00:00,  4.35it/s]\n"
     ]
    }
   ],
   "source": [
    "obs_pd = pd.DataFrame({\"id\":np.repeat(0,size_y), \"time\":range(size_y), \"y\":y_obs})\n",
    "obs_ss = extract_features(obs_pd, column_id=\"id\", column_sort=\"time\",\n",
    "                          default_fc_parameters = default_fc_parameters)\n",
    "obs_ss_pci = pci_trans.transform(obs_ss)"
   ]
  },
  {
   "cell_type": "code",
   "execution_count": 66,
   "metadata": {},
   "outputs": [
    {
     "name": "stdout",
     "output_type": "stream",
     "text": [
      "true: [-5, 1]\n",
      "infered: [-0.07563226081640168, 5.70687694549638]\n"
     ]
    }
   ],
   "source": [
    "theta_1_infer = model_1.predict(obs_ss_pci)[0]\n",
    "theta_2_infer = model_2.predict(obs_ss_pci)[0]\n",
    "\n",
    "print(\"true:\", [theta_1_true, theta_2_true])\n",
    "print(\"infered:\", [theta_1_infer, theta_2_infer])"
   ]
  },
  {
   "cell_type": "markdown",
   "metadata": {},
   "source": [
    "# Approximate the posterior!"
   ]
  },
  {
   "cell_type": "markdown",
   "metadata": {},
   "source": [
    "Take a look @\n",
    "https://scikit-garden.github.io/examples/QuantileRegressionForests/#example\n",
    "\n",
    "Quantile Regression forests seems to be the way to go. It extends the implemenations in sklearn (I think)\n"
   ]
  },
  {
   "cell_type": "code",
   "execution_count": 82,
   "metadata": {},
   "outputs": [
    {
     "data": {
      "text/plain": [
       "array([[0.00031731, 0.        , 0.00031731, ..., 0.00015865, 0.00031731,\n",
       "        0.00015865],\n",
       "       [0.        , 0.00015974, 0.00015974, ..., 0.        , 0.        ,\n",
       "        0.00015974],\n",
       "       [0.00079732, 0.00031893, 0.00031893, ..., 0.00031893, 0.        ,\n",
       "        0.        ],\n",
       "       ...,\n",
       "       [0.        , 0.00015918, 0.        , ..., 0.00015918, 0.        ,\n",
       "        0.00047755],\n",
       "       [0.        , 0.        , 0.        , ..., 0.        , 0.00031842,\n",
       "        0.        ],\n",
       "       [0.00031842, 0.00031842, 0.00015921, ..., 0.        , 0.        ,\n",
       "        0.        ]], dtype=float32)"
      ]
     },
     "execution_count": 82,
     "metadata": {},
     "output_type": "execute_result"
    }
   ],
   "source": [
    "w = model_3.y_weights_\n",
    "w"
   ]
  },
  {
   "cell_type": "code",
   "execution_count": 120,
   "metadata": {},
   "outputs": [
    {
     "data": {
      "text/plain": [
       "array([[284,  -1, 284, ..., 284, 284, 284],\n",
       "       [ -1, 302, 302, ...,  -1,  -1, 302],\n",
       "       [304, 304, 304, ..., 304,  -1,  -1],\n",
       "       ...,\n",
       "       [ -1, 164,  -1, ..., 164,  -1, 164],\n",
       "       [ -1,  -1,  -1, ...,  -1, 430,  -1],\n",
       "       [451, 451, 451, ...,  -1,  -1,  -1]], dtype=int32)"
      ]
     },
     "execution_count": 120,
     "metadata": {},
     "output_type": "execute_result"
    }
   ],
   "source": [
    "model_3.y_train_leaves_"
   ]
  },
  {
   "cell_type": "code",
   "execution_count": 134,
   "metadata": {},
   "outputs": [],
   "source": [
    "lower = model_3.predict(X_test_1,quantile=2.5)\n",
    "upper = model_3.predict(X_test_1,quantile=98.5)"
   ]
  },
  {
   "cell_type": "code",
   "execution_count": 59,
   "metadata": {},
   "outputs": [],
   "source": [
    "def getWeights(model, obs_ss):\n",
    "    mu = np.zeros(len(model.estimators_))\n",
    "    for index, tree in enumerate(model.estimators_):\n",
    "        mu[index] = tree.predict(obs_ss)\n",
    "    return(mu)        "
   ]
  },
  {
   "cell_type": "code",
   "execution_count": 60,
   "metadata": {},
   "outputs": [
    {
     "name": "stdout",
     "output_type": "stream",
     "text": [
      "[ 6.45152602 -8.66072295 -1.59189692  4.19857171  4.69902679  9.25991373\n",
      " -6.41266217 -1.50673994 -4.89783343 -9.72547909 -9.72547909  3.14346375\n",
      " -5.024954   -1.49354481  5.13557285  4.3323562  -0.58119167  5.30650508\n",
      " -6.70781542 -9.03844358  7.74566302  7.92104503 -0.58119167 -1.23437534\n",
      " -5.03029424 -8.7488667  -8.7488667  -3.23888035  9.43959441 -1.8064107\n",
      "  6.47435344  9.73881554 -5.83378827  0.97721705 -3.50800674  2.91088589\n",
      " -6.40875492  0.62493156 -8.7488667   1.15441936  4.15319455  7.66533475\n",
      "  6.06917769  7.95017419  2.48165719  3.91470056  1.09287169  8.59568715\n",
      " -1.23437534 -4.57467187  8.95981995  1.73213288 -9.11496057  5.60609259\n",
      "  7.95017419  7.22081711 -2.53308635 -4.61740232  8.98256017  9.60932918\n",
      " -9.13108143 -5.64652279  7.05245216  2.00919628 -8.55555974  1.81853451\n",
      "  8.49008215  9.43959441  2.42132215 -6.83217056 -4.61740232 -5.03029424\n",
      " -8.66072295  1.09287169 -7.10394058  9.08087828  8.88315475 -2.23322798\n",
      "  8.5888452   6.33107846 -8.7488667   8.14221532  0.62493156 -1.2778036\n",
      " -1.63980548 -9.73475519 -6.66868395 -1.50741517  0.06019664 -1.2778036\n",
      " -6.46779848 -8.7488667  -0.23115067  2.72806927  0.9321497  -9.7004748\n",
      " -3.19475184 -7.97827542 -6.04554047  5.60609259]\n"
     ]
    }
   ],
   "source": [
    "omega = getWeights(model_1, obs_ss_pci)\n",
    "print(omega)"
   ]
  },
  {
   "cell_type": "code",
   "execution_count": 62,
   "metadata": {},
   "outputs": [
    {
     "data": {
      "text/plain": [
       "[<matplotlib.lines.Line2D at 0x7f8780530b38>]"
      ]
     },
     "execution_count": 62,
     "metadata": {},
     "output_type": "execute_result"
    },
    {
     "data": {
      "image/png": "[encoded data removed]",
      "text/plain": [
       "<Figure size 432x288 with 1 Axes>"
      ]
     },
     "metadata": {
      "needs_background": "light"
     },
     "output_type": "display_data"
    }
   ],
   "source": [
    "plt.plot(np.cumsum(omega))"
   ]
  },
  {
   "cell_type": "code",
   "execution_count": 65,
   "metadata": {},
   "outputs": [
    {
     "data": {
      "text/plain": [
       "-0.07563226081640177"
      ]
     },
     "execution_count": 65,
     "metadata": {},
     "output_type": "execute_result"
    }
   ],
   "source": [
    "omega.mean()"
   ]
  },
  {
   "cell_type": "code",
   "execution_count": 64,
   "metadata": {},
   "outputs": [
    {
     "data": {
      "image/png": "[encoded data removed]",
      "text/plain": [
       "<Figure size 432x288 with 1 Axes>"
      ]
     },
     "metadata": {
      "needs_background": "light"
     },
     "output_type": "display_data"
    }
   ],
   "source": [
    "plt.hist(omega, bins = 30, density=True, histtype=\"step\")\n",
    "pass"
   ]
  }
 ],
 "metadata": {
  "kernelspec": {
   "display_name": "Python 3",
   "language": "python",
   "name": "python3"
  },
  "language_info": {
   "codemirror_mode": {
    "name": "ipython",
    "version": 3
   },
   "file_extension": ".py",
   "mimetype": "text/x-python",
   "name": "python",
   "nbconvert_exporter": "python",
   "pygments_lexer": "ipython3",
   "version": "3.5.2"
  }
 },
 "nbformat": 4,
 "nbformat_minor": 2
}
